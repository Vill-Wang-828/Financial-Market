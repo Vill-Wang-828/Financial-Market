{
 "cells": [
  {
   "cell_type": "code",
   "execution_count": 3,
   "metadata": {},
   "outputs": [],
   "source": [
    "import pandas as pd\n",
    "import numpy as np\n",
    "import os"
   ]
  },
  {
   "cell_type": "code",
   "execution_count": 4,
   "metadata": {},
   "outputs": [],
   "source": [
    "os.chdir('/Users/duanyihong/Desktop/financial markets/Assignment 7')"
   ]
  },
  {
   "cell_type": "code",
   "execution_count": 5,
   "metadata": {},
   "outputs": [],
   "source": [
    "BLport=pd.DataFrame(pd.read_excel('BL_port.xlsx'))\n",
    "Cov=pd.read_csv('Cov.csv')"
   ]
  },
  {
   "cell_type": "markdown",
   "metadata": {},
   "source": [
    "## Derive the optimal portfolio weights"
   ]
  },
  {
   "cell_type": "code",
   "execution_count": 6,
   "metadata": {},
   "outputs": [],
   "source": [
    "#Clean the data and transform it to a Covariance matrix\n",
    "Cov_val=Cov[['Australia','Canada','France','Germany','Japan','UK','USA']]\n",
    "Cov_val.index=Cov_val.columns"
   ]
  },
  {
   "cell_type": "code",
   "execution_count": 7,
   "metadata": {},
   "outputs": [],
   "source": [
    "#Calculate the inverse of covariance matrix\n",
    "Cov_inv=pd.DataFrame(np.linalg.pinv(Cov_val.values),Cov_val.columns,Cov_val.index)\n",
    "#Set risk aversion as 2.5\n",
    "result=2.5*np.dot(Cov_val,BLport['Equilibrium Portfolio Weight (%)'])"
   ]
  },
  {
   "cell_type": "code",
   "execution_count": 8,
   "metadata": {},
   "outputs": [
    {
     "data": {
      "text/html": [
       "<div>\n",
       "<style scoped>\n",
       "    .dataframe tbody tr th:only-of-type {\n",
       "        vertical-align: middle;\n",
       "    }\n",
       "\n",
       "    .dataframe tbody tr th {\n",
       "        vertical-align: top;\n",
       "    }\n",
       "\n",
       "    .dataframe thead th {\n",
       "        text-align: right;\n",
       "    }\n",
       "</style>\n",
       "<table border=\"1\" class=\"dataframe\">\n",
       "  <thead>\n",
       "    <tr style=\"text-align: right;\">\n",
       "      <th></th>\n",
       "      <th>Country</th>\n",
       "      <th>Equity Index Volatility (%)</th>\n",
       "      <th>Equilibrium Portfolio Weight (%)</th>\n",
       "      <th>Equilibrium expected return(%)</th>\n",
       "    </tr>\n",
       "  </thead>\n",
       "  <tbody>\n",
       "    <tr>\n",
       "      <th>0</th>\n",
       "      <td>Australia</td>\n",
       "      <td>16.0</td>\n",
       "      <td>1.6</td>\n",
       "      <td>3.941200</td>\n",
       "    </tr>\n",
       "    <tr>\n",
       "      <th>1</th>\n",
       "      <td>Canada</td>\n",
       "      <td>20.3</td>\n",
       "      <td>2.2</td>\n",
       "      <td>6.918900</td>\n",
       "    </tr>\n",
       "    <tr>\n",
       "      <th>2</th>\n",
       "      <td>France</td>\n",
       "      <td>24.8</td>\n",
       "      <td>5.2</td>\n",
       "      <td>8.360875</td>\n",
       "    </tr>\n",
       "    <tr>\n",
       "      <th>3</th>\n",
       "      <td>Germany</td>\n",
       "      <td>27.1</td>\n",
       "      <td>5.5</td>\n",
       "      <td>9.026275</td>\n",
       "    </tr>\n",
       "    <tr>\n",
       "      <th>4</th>\n",
       "      <td>Japan</td>\n",
       "      <td>21.0</td>\n",
       "      <td>11.6</td>\n",
       "      <td>4.299575</td>\n",
       "    </tr>\n",
       "    <tr>\n",
       "      <th>5</th>\n",
       "      <td>UK</td>\n",
       "      <td>20.0</td>\n",
       "      <td>12.4</td>\n",
       "      <td>6.769225</td>\n",
       "    </tr>\n",
       "    <tr>\n",
       "      <th>6</th>\n",
       "      <td>USA</td>\n",
       "      <td>18.7</td>\n",
       "      <td>61.5</td>\n",
       "      <td>7.565375</td>\n",
       "    </tr>\n",
       "  </tbody>\n",
       "</table>\n",
       "</div>"
      ],
      "text/plain": [
       "     Country  Equity Index Volatility (%)  Equilibrium Portfolio Weight (%)  \\\n",
       "0  Australia                         16.0                               1.6   \n",
       "1     Canada                         20.3                               2.2   \n",
       "2     France                         24.8                               5.2   \n",
       "3    Germany                         27.1                               5.5   \n",
       "4      Japan                         21.0                              11.6   \n",
       "5         UK                         20.0                              12.4   \n",
       "6        USA                         18.7                              61.5   \n",
       "\n",
       "   Equilibrium expected return(%)  \n",
       "0                        3.941200  \n",
       "1                        6.918900  \n",
       "2                        8.360875  \n",
       "3                        9.026275  \n",
       "4                        4.299575  \n",
       "5                        6.769225  \n",
       "6                        7.565375  "
      ]
     },
     "execution_count": 8,
     "metadata": {},
     "output_type": "execute_result"
    }
   ],
   "source": [
    "BLport['Equilibrium expected return(%)']=result\n",
    "BLport"
   ]
  },
  {
   "cell_type": "markdown",
   "metadata": {},
   "source": [
    "## Use CAPM to derive the optimal weights"
   ]
  },
  {
   "cell_type": "code",
   "execution_count": 9,
   "metadata": {},
   "outputs": [],
   "source": [
    "#Calculate the betas for each country with respect to USA\n",
    "CAPM=pd.DataFrame(columns=['Beta','Expected return%'],index=Cov_val.index)\n",
    "#The USA equity risk premium is about 5% in 2019\n",
    "#Risk-free rate is about 2.5%\n",
    "for i in Cov_val.index:\n",
    "    CAPM['Beta'].loc[i]=Cov_val['USA'].loc[i]/Cov_val['USA'].loc['USA']\n",
    "    CAPM['Expected return%']=(CAPM['Beta']*0.05+0.025)*100"
   ]
  },
  {
   "cell_type": "code",
   "execution_count": 10,
   "metadata": {},
   "outputs": [
    {
     "data": {
      "text/plain": [
       "Australia        4.6\n",
       "Canada       6.72857\n",
       "France       6.92857\n",
       "Germany      7.22857\n",
       "Japan        4.21429\n",
       "UK           5.98571\n",
       "USA              7.5\n",
       "Name: Expected return%, dtype: object"
      ]
     },
     "execution_count": 10,
     "metadata": {},
     "output_type": "execute_result"
    }
   ],
   "source": [
    "CAPM['Expected return%']"
   ]
  },
  {
   "cell_type": "markdown",
   "metadata": {},
   "source": [
    "## Add a view and derive new estimates of the risk premia"
   ]
  },
  {
   "cell_type": "code",
   "execution_count": 11,
   "metadata": {},
   "outputs": [],
   "source": [
    "#first form P matrix\n",
    "#my view: Japan outperforms all the European countries by 5%\n",
    "#P_prime=[0,0,-0.3,-0.4,1,-0.3,0]\n",
    "#test the case in class that Germany will outperform the rest of Europe\n",
    "P_prime=[0,0,-0.3,1,0,-0.7,0]\n",
    "Q=0.05\n",
    "#suppose my view has variance of 0.2^2\n",
    "myvar=0.04\n",
    "#set tao as 1: I'm not that confident about my result\n",
    "tao=1\n",
    "addi=np.dot(np.linalg.pinv(tao*Cov_val),BLport['Equilibrium expected return(%)'])+(1/myvar)*np.transpose(P_prime)*Q\n",
    "Cov_new=np.linalg.pinv(np.linalg.pinv(tao*Cov_val)+(1/myvar)*np.dot(np.transpose(P_prime),P_prime))"
   ]
  },
  {
   "cell_type": "code",
   "execution_count": 12,
   "metadata": {},
   "outputs": [],
   "source": [
    "BL_return=np.dot(Cov_new,addi)"
   ]
  },
  {
   "cell_type": "code",
   "execution_count": 13,
   "metadata": {},
   "outputs": [],
   "source": [
    "BLport['R_BL']=BL_return"
   ]
  },
  {
   "cell_type": "code",
   "execution_count": 14,
   "metadata": {},
   "outputs": [],
   "source": [
    "BLport['BL_weight/Original%']=np.dot(np.linalg.pinv(2.5*Cov_val),BL_return)"
   ]
  },
  {
   "cell_type": "code",
   "execution_count": 15,
   "metadata": {},
   "outputs": [],
   "source": [
    "BLport['BL_weight/Updated%']=np.dot(np.linalg.pinv(2.5*Cov_new),BL_return)"
   ]
  },
  {
   "cell_type": "code",
   "execution_count": 16,
   "metadata": {},
   "outputs": [
    {
     "data": {
      "text/html": [
       "<div>\n",
       "<style scoped>\n",
       "    .dataframe tbody tr th:only-of-type {\n",
       "        vertical-align: middle;\n",
       "    }\n",
       "\n",
       "    .dataframe tbody tr th {\n",
       "        vertical-align: top;\n",
       "    }\n",
       "\n",
       "    .dataframe thead th {\n",
       "        text-align: right;\n",
       "    }\n",
       "</style>\n",
       "<table border=\"1\" class=\"dataframe\">\n",
       "  <thead>\n",
       "    <tr style=\"text-align: right;\">\n",
       "      <th></th>\n",
       "      <th>Country</th>\n",
       "      <th>Equity Index Volatility (%)</th>\n",
       "      <th>Equilibrium Portfolio Weight (%)</th>\n",
       "      <th>Equilibrium expected return(%)</th>\n",
       "      <th>R_BL</th>\n",
       "      <th>BL_weight/Original%</th>\n",
       "      <th>BL_weight/Updated%</th>\n",
       "    </tr>\n",
       "  </thead>\n",
       "  <tbody>\n",
       "    <tr>\n",
       "      <th>0</th>\n",
       "      <td>Australia</td>\n",
       "      <td>16.0</td>\n",
       "      <td>1.6</td>\n",
       "      <td>3.941200</td>\n",
       "      <td>-0.321023</td>\n",
       "      <td>-11.666895</td>\n",
       "      <td>1.60</td>\n",
       "    </tr>\n",
       "    <tr>\n",
       "      <th>1</th>\n",
       "      <td>Canada</td>\n",
       "      <td>20.3</td>\n",
       "      <td>2.2</td>\n",
       "      <td>6.918900</td>\n",
       "      <td>0.495318</td>\n",
       "      <td>-11.066895</td>\n",
       "      <td>2.20</td>\n",
       "    </tr>\n",
       "    <tr>\n",
       "      <th>2</th>\n",
       "      <td>France</td>\n",
       "      <td>24.8</td>\n",
       "      <td>5.2</td>\n",
       "      <td>8.360875</td>\n",
       "      <td>-0.250561</td>\n",
       "      <td>-8.216895</td>\n",
       "      <td>5.05</td>\n",
       "    </tr>\n",
       "    <tr>\n",
       "      <th>3</th>\n",
       "      <td>Germany</td>\n",
       "      <td>27.1</td>\n",
       "      <td>5.5</td>\n",
       "      <td>9.026275</td>\n",
       "      <td>-0.389871</td>\n",
       "      <td>-7.266895</td>\n",
       "      <td>6.00</td>\n",
       "    </tr>\n",
       "    <tr>\n",
       "      <th>4</th>\n",
       "      <td>Japan</td>\n",
       "      <td>21.0</td>\n",
       "      <td>11.6</td>\n",
       "      <td>4.299575</td>\n",
       "      <td>-0.330576</td>\n",
       "      <td>-1.666895</td>\n",
       "      <td>11.60</td>\n",
       "    </tr>\n",
       "    <tr>\n",
       "      <th>5</th>\n",
       "      <td>UK</td>\n",
       "      <td>20.0</td>\n",
       "      <td>12.4</td>\n",
       "      <td>6.769225</td>\n",
       "      <td>0.026084</td>\n",
       "      <td>-1.216895</td>\n",
       "      <td>12.05</td>\n",
       "    </tr>\n",
       "    <tr>\n",
       "      <th>6</th>\n",
       "      <td>USA</td>\n",
       "      <td>18.7</td>\n",
       "      <td>61.5</td>\n",
       "      <td>7.565375</td>\n",
       "      <td>1.610306</td>\n",
       "      <td>48.233105</td>\n",
       "      <td>61.50</td>\n",
       "    </tr>\n",
       "  </tbody>\n",
       "</table>\n",
       "</div>"
      ],
      "text/plain": [
       "     Country  Equity Index Volatility (%)  Equilibrium Portfolio Weight (%)  \\\n",
       "0  Australia                         16.0                               1.6   \n",
       "1     Canada                         20.3                               2.2   \n",
       "2     France                         24.8                               5.2   \n",
       "3    Germany                         27.1                               5.5   \n",
       "4      Japan                         21.0                              11.6   \n",
       "5         UK                         20.0                              12.4   \n",
       "6        USA                         18.7                              61.5   \n",
       "\n",
       "   Equilibrium expected return(%)      R_BL  BL_weight/Original%  \\\n",
       "0                        3.941200 -0.321023           -11.666895   \n",
       "1                        6.918900  0.495318           -11.066895   \n",
       "2                        8.360875 -0.250561            -8.216895   \n",
       "3                        9.026275 -0.389871            -7.266895   \n",
       "4                        4.299575 -0.330576            -1.666895   \n",
       "5                        6.769225  0.026084            -1.216895   \n",
       "6                        7.565375  1.610306            48.233105   \n",
       "\n",
       "   BL_weight/Updated%  \n",
       "0                1.60  \n",
       "1                2.20  \n",
       "2                5.05  \n",
       "3                6.00  \n",
       "4               11.60  \n",
       "5               12.05  \n",
       "6               61.50  "
      ]
     },
     "execution_count": 16,
     "metadata": {},
     "output_type": "execute_result"
    }
   ],
   "source": [
    "BLport"
   ]
  },
  {
   "cell_type": "code",
   "execution_count": 195,
   "metadata": {},
   "outputs": [
    {
     "data": {
      "text/plain": [
       "array([[ 0.01390179, -0.00173367, -0.00464184, -0.00359604,  0.00210194,\n",
       "        -0.00208808, -0.00164296],\n",
       "       [-0.00173367,  0.01461934, -0.00223727, -0.00303521, -0.00594082,\n",
       "        -0.00316859,  0.00496493],\n",
       "       [-0.00464184, -0.00223727,  0.01372034,  0.00556465, -0.00716251,\n",
       "         0.00143597, -0.00202877],\n",
       "       [-0.00359604, -0.00303521,  0.00556465,  0.01607458, -0.00800938,\n",
       "         0.00117339, -0.003078  ],\n",
       "       [ 0.00210194, -0.00594082, -0.00716251, -0.00800938,  0.03031664,\n",
       "        -0.00306826, -0.00573979],\n",
       "       [-0.00208808, -0.00316859,  0.00143597,  0.00117339, -0.00306826,\n",
       "         0.01078107, -0.00142873],\n",
       "       [-0.00164296,  0.00496493, -0.00202877, -0.003078  , -0.00573979,\n",
       "        -0.00142873,  0.01216812]])"
      ]
     },
     "execution_count": 195,
     "metadata": {},
     "output_type": "execute_result"
    }
   ],
   "source": [
    "Cov_new"
   ]
  },
  {
   "cell_type": "code",
   "execution_count": null,
   "metadata": {},
   "outputs": [],
   "source": []
  }
 ],
 "metadata": {
  "kernelspec": {
   "display_name": "Python 3",
   "language": "python",
   "name": "python3"
  },
  "language_info": {
   "codemirror_mode": {
    "name": "ipython",
    "version": 3
   },
   "file_extension": ".py",
   "mimetype": "text/x-python",
   "name": "python",
   "nbconvert_exporter": "python",
   "pygments_lexer": "ipython3",
   "version": "3.6.8"
  }
 },
 "nbformat": 4,
 "nbformat_minor": 2
}
