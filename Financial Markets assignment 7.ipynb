{
 "cells": [
  {
   "cell_type": "code",
   "execution_count": 1,
   "metadata": {},
   "outputs": [],
   "source": [
    "import pandas as pd\n",
    "import numpy as np\n",
    "import os"
   ]
  },
  {
   "cell_type": "code",
   "execution_count": 2,
   "metadata": {},
   "outputs": [],
   "source": [
    "os.chdir('/Users/duanyihong/Desktop/financial markets/Assignment 7')"
   ]
  },
  {
   "cell_type": "code",
   "execution_count": 3,
   "metadata": {},
   "outputs": [],
   "source": [
    "BLport=pd.DataFrame(pd.read_excel('BL_port.xlsx'))\n",
    "Cov=pd.read_csv('Cov.csv')"
   ]
  },
  {
   "cell_type": "markdown",
   "metadata": {},
   "source": [
    "## Derive the optimal portfolio weights"
   ]
  },
  {
   "cell_type": "code",
   "execution_count": 4,
   "metadata": {},
   "outputs": [],
   "source": [
    "#Clean the data and transform it to a Covariance matrix\n",
    "Cov_val=Cov[['Australia','Canada','France','Germany','Japan','UK','USA']]\n",
    "Cov_val.index=Cov_val.columns"
   ]
  },
  {
   "cell_type": "code",
   "execution_count": 35,
   "metadata": {},
   "outputs": [],
   "source": [
    "#Calculate the inverse of covariance matrix\n",
    "Cov_inv=pd.DataFrame(np.linalg.pinv(Cov_val.values),Cov_val.columns,Cov_val.index)\n",
    "#Set risk aversion as 2.5\n",
    "result=2.5*np.dot(Cov_val,BLport['Equilibrium Portfolio Weight (%)']).round(decimals=2)"
   ]
  },
  {
   "cell_type": "code",
   "execution_count": 36,
   "metadata": {},
   "outputs": [
    {
     "data": {
      "text/html": [
       "<div>\n",
       "<style scoped>\n",
       "    .dataframe tbody tr th:only-of-type {\n",
       "        vertical-align: middle;\n",
       "    }\n",
       "\n",
       "    .dataframe tbody tr th {\n",
       "        vertical-align: top;\n",
       "    }\n",
       "\n",
       "    .dataframe thead th {\n",
       "        text-align: right;\n",
       "    }\n",
       "</style>\n",
       "<table border=\"1\" class=\"dataframe\">\n",
       "  <thead>\n",
       "    <tr style=\"text-align: right;\">\n",
       "      <th></th>\n",
       "      <th>Country</th>\n",
       "      <th>Equity Index Volatility (%)</th>\n",
       "      <th>Equilibrium Portfolio Weight (%)</th>\n",
       "      <th>Equilibrium expected return(%)</th>\n",
       "      <th>R_BL</th>\n",
       "      <th>BL_weight/Original%</th>\n",
       "      <th>BL_weight/Updated%</th>\n",
       "    </tr>\n",
       "  </thead>\n",
       "  <tbody>\n",
       "    <tr>\n",
       "      <th>0</th>\n",
       "      <td>Australia</td>\n",
       "      <td>16.0</td>\n",
       "      <td>1.6</td>\n",
       "      <td>3.950</td>\n",
       "      <td>4.2</td>\n",
       "      <td>1.6</td>\n",
       "      <td>1.6</td>\n",
       "    </tr>\n",
       "    <tr>\n",
       "      <th>1</th>\n",
       "      <td>Canada</td>\n",
       "      <td>20.3</td>\n",
       "      <td>2.2</td>\n",
       "      <td>6.925</td>\n",
       "      <td>7.4</td>\n",
       "      <td>3.3</td>\n",
       "      <td>3.3</td>\n",
       "    </tr>\n",
       "    <tr>\n",
       "      <th>2</th>\n",
       "      <td>France</td>\n",
       "      <td>24.8</td>\n",
       "      <td>5.2</td>\n",
       "      <td>8.350</td>\n",
       "      <td>9.0</td>\n",
       "      <td>-1.0</td>\n",
       "      <td>-9.6</td>\n",
       "    </tr>\n",
       "    <tr>\n",
       "      <th>3</th>\n",
       "      <td>Germany</td>\n",
       "      <td>27.1</td>\n",
       "      <td>5.5</td>\n",
       "      <td>9.025</td>\n",
       "      <td>10.4</td>\n",
       "      <td>26.0</td>\n",
       "      <td>54.7</td>\n",
       "    </tr>\n",
       "    <tr>\n",
       "      <th>4</th>\n",
       "      <td>Japan</td>\n",
       "      <td>21.0</td>\n",
       "      <td>11.6</td>\n",
       "      <td>4.300</td>\n",
       "      <td>4.4</td>\n",
       "      <td>11.2</td>\n",
       "      <td>11.2</td>\n",
       "    </tr>\n",
       "    <tr>\n",
       "      <th>5</th>\n",
       "      <td>UK</td>\n",
       "      <td>20.0</td>\n",
       "      <td>12.4</td>\n",
       "      <td>6.775</td>\n",
       "      <td>6.9</td>\n",
       "      <td>-1.8</td>\n",
       "      <td>-21.9</td>\n",
       "    </tr>\n",
       "    <tr>\n",
       "      <th>6</th>\n",
       "      <td>USA</td>\n",
       "      <td>18.7</td>\n",
       "      <td>61.5</td>\n",
       "      <td>7.575</td>\n",
       "      <td>7.9</td>\n",
       "      <td>60.5</td>\n",
       "      <td>60.5</td>\n",
       "    </tr>\n",
       "  </tbody>\n",
       "</table>\n",
       "</div>"
      ],
      "text/plain": [
       "     Country  Equity Index Volatility (%)  Equilibrium Portfolio Weight (%)  \\\n",
       "0  Australia                         16.0                               1.6   \n",
       "1     Canada                         20.3                               2.2   \n",
       "2     France                         24.8                               5.2   \n",
       "3    Germany                         27.1                               5.5   \n",
       "4      Japan                         21.0                              11.6   \n",
       "5         UK                         20.0                              12.4   \n",
       "6        USA                         18.7                              61.5   \n",
       "\n",
       "   Equilibrium expected return(%)  R_BL  BL_weight/Original%  \\\n",
       "0                           3.950   4.2                  1.6   \n",
       "1                           6.925   7.4                  3.3   \n",
       "2                           8.350   9.0                 -1.0   \n",
       "3                           9.025  10.4                 26.0   \n",
       "4                           4.300   4.4                 11.2   \n",
       "5                           6.775   6.9                 -1.8   \n",
       "6                           7.575   7.9                 60.5   \n",
       "\n",
       "   BL_weight/Updated%  \n",
       "0                 1.6  \n",
       "1                 3.3  \n",
       "2                -9.6  \n",
       "3                54.7  \n",
       "4                11.2  \n",
       "5               -21.9  \n",
       "6                60.5  "
      ]
     },
     "execution_count": 36,
     "metadata": {},
     "output_type": "execute_result"
    }
   ],
   "source": [
    "BLport['Equilibrium expected return(%)']=result\n",
    "BLport"
   ]
  },
  {
   "cell_type": "markdown",
   "metadata": {},
   "source": [
    "## Use CAPM to derive the optimal weights"
   ]
  },
  {
   "cell_type": "code",
   "execution_count": 37,
   "metadata": {},
   "outputs": [],
   "source": [
    "#Calculate the betas for each country with respect to USA\n",
    "CAPM=pd.DataFrame(columns=['Beta','Expected return%'],index=Cov_val.index)\n",
    "#The USA equity risk premium is about 5% in 2019\n",
    "#Risk-free rate is about 2.5%\n",
    "for i in Cov_val.index:\n",
    "    CAPM['Beta'].loc[i]=Cov_val['USA'].loc[i]/Cov_val['USA'].loc['USA']\n",
    "    CAPM['Expected return%']=(CAPM['Beta']*0.05+0.025)*100"
   ]
  },
  {
   "cell_type": "code",
   "execution_count": 38,
   "metadata": {},
   "outputs": [
    {
     "data": {
      "text/plain": [
       "Australia        4.6\n",
       "Canada       6.72857\n",
       "France       6.92857\n",
       "Germany      7.22857\n",
       "Japan        4.21429\n",
       "UK           5.98571\n",
       "USA              7.5\n",
       "Name: Expected return%, dtype: object"
      ]
     },
     "execution_count": 38,
     "metadata": {},
     "output_type": "execute_result"
    }
   ],
   "source": [
    "CAPM['Expected return%']"
   ]
  },
  {
   "cell_type": "markdown",
   "metadata": {},
   "source": [
    "## Add a view and derive new estimates of the risk premia"
   ]
  },
  {
   "cell_type": "code",
   "execution_count": 39,
   "metadata": {},
   "outputs": [],
   "source": [
    "#first form P matrix\n",
    "#my view: Japan outperforms all the European countries by 5%\n",
    "#P_prime=[0,0,-0.3,-0.4,1,-0.3,0]\n",
    "#test the case in class that Germany will outperform the rest of Europe\n",
    "P_prime=[0,0,-0.3,1,0,-0.7,0]\n",
    "Q=5\n",
    "#suppose my view has variance of 0.2^2\n",
    "myvar=0.04\n",
    "#set tao as 1: I'm not that confident about my result\n",
    "tao=1\n",
    "addi=np.dot(np.linalg.pinv(tao*Cov_val),BLport['Equilibrium expected return(%)'])+(1/myvar)*np.transpose(P_prime)*Q\n",
    "Cov_new=np.linalg.pinv(np.linalg.pinv(tao*Cov_val)+(1/myvar)*np.outer(np.transpose(P_prime),P_prime))"
   ]
  },
  {
   "cell_type": "code",
   "execution_count": 40,
   "metadata": {},
   "outputs": [],
   "source": [
    "BL_return=np.dot(Cov_new,addi).round(decimals=1)"
   ]
  },
  {
   "cell_type": "code",
   "execution_count": 41,
   "metadata": {},
   "outputs": [],
   "source": [
    "BLport['R_BL']=BL_return"
   ]
  },
  {
   "cell_type": "code",
   "execution_count": 42,
   "metadata": {},
   "outputs": [],
   "source": [
    "BLport['BL_weight/Original%']=np.dot(np.linalg.pinv(2.5*Cov_val),BL_return).round(decimals=1)"
   ]
  },
  {
   "cell_type": "code",
   "execution_count": 43,
   "metadata": {},
   "outputs": [],
   "source": [
    "BLport['BL_weight/Updated%']=np.dot(np.linalg.pinv(2.5*Cov_new),BL_return).round(decimals=1)"
   ]
  },
  {
   "cell_type": "code",
   "execution_count": 44,
   "metadata": {},
   "outputs": [
    {
     "data": {
      "text/html": [
       "<div>\n",
       "<style scoped>\n",
       "    .dataframe tbody tr th:only-of-type {\n",
       "        vertical-align: middle;\n",
       "    }\n",
       "\n",
       "    .dataframe tbody tr th {\n",
       "        vertical-align: top;\n",
       "    }\n",
       "\n",
       "    .dataframe thead th {\n",
       "        text-align: right;\n",
       "    }\n",
       "</style>\n",
       "<table border=\"1\" class=\"dataframe\">\n",
       "  <thead>\n",
       "    <tr style=\"text-align: right;\">\n",
       "      <th></th>\n",
       "      <th>Country</th>\n",
       "      <th>Equity Index Volatility (%)</th>\n",
       "      <th>Equilibrium Portfolio Weight (%)</th>\n",
       "      <th>Equilibrium expected return(%)</th>\n",
       "      <th>R_BL</th>\n",
       "      <th>BL_weight/Original%</th>\n",
       "      <th>BL_weight/Updated%</th>\n",
       "    </tr>\n",
       "  </thead>\n",
       "  <tbody>\n",
       "    <tr>\n",
       "      <th>0</th>\n",
       "      <td>Australia</td>\n",
       "      <td>16.0</td>\n",
       "      <td>1.6</td>\n",
       "      <td>3.950</td>\n",
       "      <td>4.2</td>\n",
       "      <td>1.6</td>\n",
       "      <td>1.6</td>\n",
       "    </tr>\n",
       "    <tr>\n",
       "      <th>1</th>\n",
       "      <td>Canada</td>\n",
       "      <td>20.3</td>\n",
       "      <td>2.2</td>\n",
       "      <td>6.925</td>\n",
       "      <td>7.4</td>\n",
       "      <td>3.3</td>\n",
       "      <td>3.3</td>\n",
       "    </tr>\n",
       "    <tr>\n",
       "      <th>2</th>\n",
       "      <td>France</td>\n",
       "      <td>24.8</td>\n",
       "      <td>5.2</td>\n",
       "      <td>8.350</td>\n",
       "      <td>9.0</td>\n",
       "      <td>-1.0</td>\n",
       "      <td>-9.6</td>\n",
       "    </tr>\n",
       "    <tr>\n",
       "      <th>3</th>\n",
       "      <td>Germany</td>\n",
       "      <td>27.1</td>\n",
       "      <td>5.5</td>\n",
       "      <td>9.025</td>\n",
       "      <td>10.4</td>\n",
       "      <td>26.0</td>\n",
       "      <td>54.7</td>\n",
       "    </tr>\n",
       "    <tr>\n",
       "      <th>4</th>\n",
       "      <td>Japan</td>\n",
       "      <td>21.0</td>\n",
       "      <td>11.6</td>\n",
       "      <td>4.300</td>\n",
       "      <td>4.4</td>\n",
       "      <td>11.2</td>\n",
       "      <td>11.2</td>\n",
       "    </tr>\n",
       "    <tr>\n",
       "      <th>5</th>\n",
       "      <td>UK</td>\n",
       "      <td>20.0</td>\n",
       "      <td>12.4</td>\n",
       "      <td>6.775</td>\n",
       "      <td>6.9</td>\n",
       "      <td>-1.8</td>\n",
       "      <td>-21.9</td>\n",
       "    </tr>\n",
       "    <tr>\n",
       "      <th>6</th>\n",
       "      <td>USA</td>\n",
       "      <td>18.7</td>\n",
       "      <td>61.5</td>\n",
       "      <td>7.575</td>\n",
       "      <td>7.9</td>\n",
       "      <td>60.5</td>\n",
       "      <td>60.5</td>\n",
       "    </tr>\n",
       "  </tbody>\n",
       "</table>\n",
       "</div>"
      ],
      "text/plain": [
       "     Country  Equity Index Volatility (%)  Equilibrium Portfolio Weight (%)  \\\n",
       "0  Australia                         16.0                               1.6   \n",
       "1     Canada                         20.3                               2.2   \n",
       "2     France                         24.8                               5.2   \n",
       "3    Germany                         27.1                               5.5   \n",
       "4      Japan                         21.0                              11.6   \n",
       "5         UK                         20.0                              12.4   \n",
       "6        USA                         18.7                              61.5   \n",
       "\n",
       "   Equilibrium expected return(%)  R_BL  BL_weight/Original%  \\\n",
       "0                           3.950   4.2                  1.6   \n",
       "1                           6.925   7.4                  3.3   \n",
       "2                           8.350   9.0                 -1.0   \n",
       "3                           9.025  10.4                 26.0   \n",
       "4                           4.300   4.4                 11.2   \n",
       "5                           6.775   6.9                 -1.8   \n",
       "6                           7.575   7.9                 60.5   \n",
       "\n",
       "   BL_weight/Updated%  \n",
       "0                 1.6  \n",
       "1                 3.3  \n",
       "2                -9.6  \n",
       "3                54.7  \n",
       "4                11.2  \n",
       "5               -21.9  \n",
       "6                60.5  "
      ]
     },
     "execution_count": 44,
     "metadata": {},
     "output_type": "execute_result"
    }
   ],
   "source": [
    "BLport"
   ]
  }
 ],
 "metadata": {
  "kernelspec": {
   "display_name": "Python 3",
   "language": "python",
   "name": "python3"
  },
  "language_info": {
   "codemirror_mode": {
    "name": "ipython",
    "version": 3
   },
   "file_extension": ".py",
   "mimetype": "text/x-python",
   "name": "python",
   "nbconvert_exporter": "python",
   "pygments_lexer": "ipython3",
   "version": "3.6.8"
  }
 },
 "nbformat": 4,
 "nbformat_minor": 2
}
